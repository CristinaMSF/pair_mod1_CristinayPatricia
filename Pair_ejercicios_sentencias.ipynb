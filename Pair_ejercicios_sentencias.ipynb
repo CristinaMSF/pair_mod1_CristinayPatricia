{
 "cells": [
  {
   "cell_type": "code",
   "execution_count": 1,
   "metadata": {},
   "outputs": [
    {
     "name": "stdout",
     "output_type": "stream",
     "text": [
      "el numero es cero\n"
     ]
    }
   ],
   "source": [
    "num = int(input(\"ingresa un numero\"))\n",
    "if num > 0: \n",
    "    print(\"el numero es positivo\")\n",
    "elif num <0:\n",
    "    print(\"el numero es negarito\") \n",
    "else:\n",
    "    print(\"el numero es cero\")\n"
   ]
  },
  {
   "cell_type": "code",
   "execution_count": 2,
   "metadata": {},
   "outputs": [],
   "source": [
    "# siempre hay que poner la condicionante else (de manera correcta, porque se puede colocar un elif...)\n",
    "num = int(input(\"ingresa un numero\"))\n",
    "if num > 0: \n",
    "    print(\"el numero es positivo\")\n",
    "elif num <0:\n",
    "    print(\"el numero es negarito\") \n"
   ]
  },
  {
   "cell_type": "code",
   "execution_count": 5,
   "metadata": {},
   "outputs": [
    {
     "name": "stdout",
     "output_type": "stream",
     "text": [
      "el numero es impar\n"
     ]
    }
   ],
   "source": [
    "num1 = int(input(\"ingresa un numero\"))\n",
    "if num %2 ==0:\n",
    "    print(\"el numero es impar\")\n",
    "else:\n",
    "    print(\"el numero es par\")"
   ]
  },
  {
   "cell_type": "code",
   "execution_count": 6,
   "metadata": {},
   "outputs": [
    {
     "name": "stdout",
     "output_type": "stream",
     "text": [
      "aprobado\n"
     ]
    }
   ],
   "source": [
    "calificación = 100\n",
    "if calificación >=60:\n",
    "    print(\"aprobado\")\n",
    "elif calificación <60:\n",
    "    print (\"no aprobado\")"
   ]
  },
  {
   "cell_type": "code",
   "execution_count": 7,
   "metadata": {},
   "outputs": [
    {
     "name": "stdout",
     "output_type": "stream",
     "text": [
      "no aprobado\n"
     ]
    }
   ],
   "source": [
    "calificación = 50\n",
    "if calificación >=60:\n",
    "    print(\"aprobado\")\n",
    "elif calificación <60:\n",
    "    print (\"no aprobado\")"
   ]
  },
  {
   "cell_type": "code",
   "execution_count": 9,
   "metadata": {},
   "outputs": [
    {
     "name": "stdout",
     "output_type": "stream",
     "text": [
      "numero 3 es mayor que 2\n"
     ]
    }
   ],
   "source": [
    "num2 = 2\n",
    "num3 = 3\n",
    "if num2 >3:\n",
    "    Print(\"numero 2 es menor que 3\")\n",
    "else:\n",
    "    print(\"numero 3 es mayor que 2\")"
   ]
  },
  {
   "cell_type": "code",
   "execution_count": null,
   "metadata": {},
   "outputs": [],
   "source": []
  },
  {
   "cell_type": "code",
   "execution_count": null,
   "metadata": {},
   "outputs": [],
   "source": []
  },
  {
   "cell_type": "code",
   "execution_count": null,
   "metadata": {},
   "outputs": [],
   "source": []
  }
 ],
 "metadata": {
  "kernelspec": {
   "display_name": "base",
   "language": "python",
   "name": "python3"
  },
  "language_info": {
   "codemirror_mode": {
    "name": "ipython",
    "version": 3
   },
   "file_extension": ".py",
   "mimetype": "text/x-python",
   "name": "python",
   "nbconvert_exporter": "python",
   "pygments_lexer": "ipython3",
   "version": "3.12.7"
  }
 },
 "nbformat": 4,
 "nbformat_minor": 2
}
